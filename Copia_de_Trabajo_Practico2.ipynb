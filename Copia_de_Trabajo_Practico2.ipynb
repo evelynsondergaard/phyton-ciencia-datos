{
  "cells": [
    {
      "cell_type": "markdown",
      "metadata": {
        "id": "view-in-github",
        "colab_type": "text"
      },
      "source": [
        "<a href=\"https://colab.research.google.com/github/evelynsondergaard/phyton-ciencia-datos/blob/main/Copia_de_Trabajo_Practico2.ipynb\" target=\"_parent\"><img src=\"https://colab.research.google.com/assets/colab-badge.svg\" alt=\"Open In Colab\"/></a>"
      ]
    },
    {
      "cell_type": "markdown",
      "metadata": {
        "id": "1qK5hGNp-o6o"
      },
      "source": [
        "# Introducción a NumPy\n",
        "\n",
        "\n",
        "\n",
        "\n",
        "Este Práctico proporciona una introducción básica a NumPy, destacando algunas de sus características clave y mostrando ejemplos de su uso. A continuación tendrán un resúmen de algunos comando y su implementación. Esto servirá de guia para desarrollar las actividades propuestas a continuación."
      ],
      "id": "1qK5hGNp-o6o"
    },
    {
      "cell_type": "markdown",
      "metadata": {
        "id": "EhfjWsse-o6r"
      },
      "source": [
        "## Comparación entre uso de vectores de Python y NumPy\n",
        "A continuación se presentan varios aspectos para poder comparar la implementación de vectores a través del tipo de datos LISTA , comparado con la implementación de vectores con NumPy:"
      ],
      "id": "EhfjWsse-o6r"
    },
    {
      "cell_type": "markdown",
      "metadata": {
        "id": "c294f2JK-o6s"
      },
      "source": [
        "#### 1- Creación de vectores\n",
        "\n",
        "En esta celda, se importa la biblioteca NumPy y se **CREA UN VECTOR** utilizando Python puro y NumPy. Luego, se imprime cada uno de los vectores."
      ],
      "id": "c294f2JK-o6s"
    },
    {
      "cell_type": "code",
      "execution_count": null,
      "metadata": {
        "id": "_HV2dLLF-o6s",
        "colab": {
          "base_uri": "https://localhost:8080/"
        },
        "outputId": "58d1f206-9917-4116-c540-1c5ecd208b72"
      },
      "outputs": [
        {
          "output_type": "stream",
          "name": "stdout",
          "text": [
            "Vector en Python puro: [1, 2, 3, 4, 5]\n",
            "Vector en NumPy: [1.  2.  3.5 4.  5. ]\n"
          ]
        }
      ],
      "source": [
        "import numpy as np\n",
        "vector_py = [1, 2, 3, 4, 5]\n",
        "vector_np = np.array([1, 2, 3.5, 4, 5])\n",
        "print(\"Vector en Python puro:\", vector_py)\n",
        "print(\"Vector en NumPy:\", vector_np)"
      ],
      "id": "_HV2dLLF-o6s"
    },
    {
      "cell_type": "markdown",
      "metadata": {
        "id": "dMFB7By3-o6t"
      },
      "source": [
        "#### 2- Operaciones matemáticas\n",
        "En esta celda, se realizan operaciones matemáticas en un vector utilizando Python puro y NumPy. Luego, se imprime el resultado de cada operación."
      ],
      "id": "dMFB7By3-o6t"
    },
    {
      "cell_type": "code",
      "execution_count": null,
      "metadata": {
        "colab": {
          "base_uri": "https://localhost:8080/"
        },
        "id": "fu-4G2Ut-o6t",
        "outputId": "816b5481-7f26-4aff-f92b-8f928f8e9cd7"
      },
      "outputs": [
        {
          "output_type": "execute_result",
          "data": {
            "text/plain": [
              "[1, 2, 3, 4, 5, 1, 2, 3, 4, 5]"
            ]
          },
          "metadata": {},
          "execution_count": 2
        }
      ],
      "source": [
        "vector_py = [1, 2, 3, 4, 5]\n",
        "vector_np = np.array([1, 2, 3, 4, 5])\n",
        "suma_py = [x + 2 for x in vector_py]\n",
        "suma_np = vector_np *2\n",
        "#print(\"Suma en Python puro:\", suma_py)\n",
        "#print(\"Suma en NumPy:\", suma_np)\n",
        "vector_py*2"
      ],
      "id": "fu-4G2Ut-o6t"
    },
    {
      "cell_type": "markdown",
      "metadata": {
        "id": "zNYiFFjG-o6u"
      },
      "source": [
        "#### 3- Indexado y segmentación\n",
        "En esta celda, se realiza el indexado y segmentación en un vector utilizando Python puro y NumPy. Luego, se imprime el resultado de cada operación."
      ],
      "id": "zNYiFFjG-o6u"
    },
    {
      "cell_type": "code",
      "execution_count": null,
      "metadata": {
        "colab": {
          "base_uri": "https://localhost:8080/"
        },
        "id": "c-PIchEg-o6u",
        "outputId": "acf4b356-844f-46bc-f97e-49a0269d3029"
      },
      "outputs": [
        {
          "output_type": "stream",
          "name": "stdout",
          "text": [
            "Segmento en Python puro: [2, 3, 4]\n",
            "Segmento en NumPy: [2 3 4]\n"
          ]
        }
      ],
      "source": [
        "vector_py = [1, 2, 3, 4, 5]\n",
        "vector_np = np.array([1, 2, 3, 4, 5])\n",
        "segmento_py = vector_py[1:4]\n",
        "segmento_np = vector_np[1:4]\n",
        "print(\"Segmento en Python puro:\", segmento_py)\n",
        "print(\"Segmento en NumPy:\", segmento_np)"
      ],
      "id": "c-PIchEg-o6u"
    },
    {
      "cell_type": "markdown",
      "metadata": {
        "id": "v5GzRhOK-o6v"
      },
      "source": [
        "## Operaciones entre vectores y funciones sobre vectores\n",
        "A continuación se presentan algunos ejemplos de operaciones básicas entre vectores utilizando NumPy:"
      ],
      "id": "v5GzRhOK-o6v"
    },
    {
      "cell_type": "markdown",
      "metadata": {
        "id": "KE93Crg_-o6v"
      },
      "source": [
        "#### Suma de vectores\n",
        "En esta celda, se crea un vector 'vector_a' y un vector 'vector_b', y se realiza la suma de ambos vectores utilizando NumPy. Luego, se imprime el resultado."
      ],
      "id": "KE93Crg_-o6v"
    },
    {
      "cell_type": "code",
      "execution_count": null,
      "metadata": {
        "id": "rAzW3AvC-o6v",
        "colab": {
          "base_uri": "https://localhost:8080/"
        },
        "outputId": "14739bda-3a68-46d4-e706-42a20eff3c22"
      },
      "outputs": [
        {
          "output_type": "stream",
          "name": "stdout",
          "text": [
            "Suma de vectores: [5 7 9]\n"
          ]
        }
      ],
      "source": [
        "vector_a = np.array([1, 2, 3])\n",
        "vector_b = np.array([4, 5, 6])\n",
        "suma_vector = vector_a + vector_b\n",
        "print(\"Suma de vectores:\", suma_vector)"
      ],
      "id": "rAzW3AvC-o6v"
    },
    {
      "cell_type": "markdown",
      "source": [
        "# ***EJERCICIOS PARTE 1***\n",
        "\n",
        "***EJERCICIO 1:***\n",
        "\n",
        "Dada la siguiente tabla (matriz) de datos, donde cada fila representa la cantidad que se vendio en referencia a un solo producto durante toda la semana; mientras que cada columna representa la venta total en un dia de la semana.Obtener la siguiente información detallada:\n",
        "\n",
        "\n",
        "*   Importe total de la venta por cada dia de la semana\n",
        "*   Importe total de la venta por cada producto en la semana\n",
        "*   Importe total de la venta en toda la semana\n",
        "\n"
      ],
      "metadata": {
        "id": "m8wTYxHe6TwA"
      },
      "id": "m8wTYxHe6TwA"
    },
    {
      "cell_type": "code",
      "execution_count": null,
      "metadata": {
        "colab": {
          "base_uri": "https://localhost:8080/"
        },
        "id": "djSElJbA4fVb",
        "outputId": "0f84ba9e-fe92-4fca-f69f-e0576bca50d5"
      },
      "outputs": [
        {
          "output_type": "stream",
          "name": "stdout",
          "text": [
            "Matriz de ventas diarias: [[20 15 25 30 18 22 24]\n",
            " [12 20 14  8 15 18 16]\n",
            " [35 28 32 30 26 24 30]\n",
            " [40 38 45 42 39 41 37]]\n",
            "15\n",
            "20\n",
            "28\n",
            "38\n",
            "la suma total del lunes es: 101\n",
            "Total de ventas por día: [107 101 116 110  98 105 107]\n"
          ]
        }
      ],
      "source": [
        "import numpy as np\n",
        "\n",
        "\n",
        "# Datos de ventas diarias de 4 productos durante una semana\n",
        "\n",
        "ventas_diarias = np.array(\n",
        "    #Lun,Mar,Mie,Jue,Vie,Sab,Dom\n",
        "    [[20, 15, 25, 30, 18, 22, 24],  #Producto A\n",
        "    [12, 20, 14, 8, 15, 18, 16],    #Producto B\n",
        "    [35, 28, 32, 30, 26, 24, 30],   #Producto C\n",
        "    [40, 38, 45, 42, 39, 41, 37]    #Producto D\n",
        "    ]\n",
        ")\n",
        "\n",
        "print(\"Matriz de ventas diarias:\",ventas_diarias)\n",
        "\n",
        "#==== FORMAS DE RECORRER UNA MATRIZ FIJADA LA COLUMNA J=1\n",
        "#    Calcula la suma total del dia lunes\n",
        "suma=0\n",
        "for i in range(4):\n",
        "  print(ventas_diarias[i,1])\n",
        "  suma=suma+ventas_diarias[i,1]\n",
        "print('la suma total del lunes es:', suma)\n",
        "\n",
        "#===== IMPLEMENTACIÓN DE UN MÉTODO DE NUMPY\n",
        "# Sumar las ventas por día (sumar las columnas)\n",
        "ventas_por_dia = np.sum(ventas_diarias, axis=0)\n",
        "print(\"Total de ventas por día:\",ventas_por_dia)\n"
      ],
      "id": "djSElJbA4fVb"
    },
    {
      "cell_type": "code",
      "source": [
        "import numpy as np\n",
        "ventas_diarias = np.array(\n",
        "    #Lun,Mar,Mie,Jue,Vie,Sab,Dom\n",
        "    [[20, 15, 25, 30, 18, 22, 24],  #Producto A\n",
        "    [12, 20, 14, 8, 15, 18, 16],    #Producto B\n",
        "    [35, 28, 32, 30, 26, 24, 30],   #Producto C\n",
        "    [40, 38, 45, 42, 39, 41, 37]    #Producto D\n",
        "    ]\n",
        ")\n",
        "\n",
        "#Ventas por dia\n",
        "ventas_por_dia = np.sum(ventas_diarias, axis=0)\n",
        "print(\"total de ventas por dia:\", ventas_por_dia)\n",
        "\n",
        "#Ventas por producto en la semana\n",
        "ventas_producto = np.sum(ventas_diarias, axis=1)\n",
        "print(\"total de ventas por producto\", ventas_producto)\n",
        "\n",
        "#Ventas total semana\n",
        "total_ventas_semana = np.sum(ventas_por_dia)\n",
        "\n",
        "print(\"total de ventas de toda la semana:\", total_ventas_semana)\n"
      ],
      "metadata": {
        "colab": {
          "base_uri": "https://localhost:8080/"
        },
        "id": "85OT24DJJj_u",
        "outputId": "3d070a18-be61-471e-8911-b0abaf298b5a"
      },
      "id": "85OT24DJJj_u",
      "execution_count": 3,
      "outputs": [
        {
          "output_type": "stream",
          "name": "stdout",
          "text": [
            "total de ventas por dia: [107 101 116 110  98 105 107]\n",
            "total de ventas por producto [154 103 205 282]\n",
            "total de ventas de toda la semana: 744\n"
          ]
        }
      ]
    },
    {
      "cell_type": "markdown",
      "source": [
        "**EJERCICIO 2:**\n",
        "\n",
        "Crear un programa donde se le pida al usuario que ingrese la cantidad de elementos de una lista de números reales positivos. Luego Convertir esa lista en un vector de Numpy.\n",
        "\n"
      ],
      "metadata": {
        "id": "CqUA_dCI6FCc"
      },
      "id": "CqUA_dCI6FCc"
    },
    {
      "cell_type": "code",
      "source": [
        "import numpy as np\n",
        "\n",
        "def crear_vector_numpy():\n",
        "    cantidad_elementos = int(input(\"Ingrese cantidad de elementos: \"))\n",
        "    if cantidad_elementos <= 0:\n",
        "        print(\"La cantidad elementos debe ser positivo, mayor que cero y entero.\")\n",
        "        return\n",
        "\n",
        "    lista_numeros = []\n",
        "    for i in range(cantidad_elementos):\n",
        "        numero_str = input(f\"Ingrese el número {i+1}: \").replace(',', '.')\n",
        "        if not numero_str.replace('.', '', 1).isdigit():\n",
        "            print(\"Ingresar valores numéricos válidos por favor.\")\n",
        "            return\n",
        "\n",
        "        numero = float(numero_str)\n",
        "        if numero < 0:\n",
        "            print(\"Los números deben ser reales positivos.\")\n",
        "            return\n",
        "\n",
        "        lista_numeros.append(numero)\n",
        "\n",
        "    vector_numpy = np.array(lista_numeros)\n",
        "    return vector_numpy\n",
        "\n",
        "vector_resultante = crear_vector_numpy()\n",
        "if vector_resultante.size > 0:\n",
        "    print(\"El vector NumPy resultante es:\", vector_resultante)4"
      ],
      "metadata": {
        "colab": {
          "base_uri": "https://localhost:8080/"
        },
        "id": "fj_8rN53QZjQ",
        "outputId": "f6fd6cd8-c996-4a52-bd16-d2b92fe09f5e"
      },
      "id": "fj_8rN53QZjQ",
      "execution_count": 11,
      "outputs": [
        {
          "output_type": "stream",
          "name": "stdout",
          "text": [
            "Ingrese cantidad de elementos: 2\n",
            "Ingrese el número 1: 2\n",
            "Ingrese el número 2: 3\n",
            "El vector NumPy resultante es: [2. 3.]\n"
          ]
        }
      ]
    },
    {
      "cell_type": "markdown",
      "source": [
        "\n",
        "**Ejercicio 3:**\n",
        "\n",
        "Crear un programa donde el usuario ingrese la cantidad de filas y columnas que tendra una tabla de datos. Luego el programa pedira ingresar los datos de la tabla fila por fila. Todos los datos serán numéricos.\n",
        "\n",
        "Mostrar la tabla ingresada en formato LISTA de Python, y mostrar la misma tabla en formato array de Numpy.\n",
        "\n",
        "Solicitar al usuario que ingrese las posiciones de dos filas y realice la suma  de las mismas. Mostrar este vector resultado."
      ],
      "metadata": {
        "id": "ExpBJWL591Yx"
      },
      "id": "ExpBJWL591Yx"
    },
    {
      "cell_type": "code",
      "source": [
        "import numpy as np\n",
        "\n",
        "#funcion definida para cargar una matriz de números\n",
        "def crear_matriz ():\n",
        "  matriz_numeros = []\n",
        "  #Solicitar la cantidad de filas y columnas\n",
        "  cantidad_filas = int(input(\"Ingrese cantidad de filas: \"))\n",
        "  cantidad_col = int(input(\"Ingrese cantidad de columnnas: \"))\n",
        "  if cantidad_filas <= 0 or cantidad_col <= 0 :\n",
        "    print(f\"La cantidad de filas {cantidad_filas} y la cantidad de columnas {cantidad_col} debe ser un número positivo mayor que cero.\")\n",
        "    return\n",
        "\n",
        "  #Cargar la matriz con elementos\n",
        "  for i in range(cantidad_filas):\n",
        "    #Variable para los elementos de las columnas de la fila\n",
        "    lista_numeros = []\n",
        "    for j in range(cantidad_col):\n",
        "      #Ingresar el elemento de lafila columna\n",
        "      numero_str = input(f\"Ingrese el número de la fila {i} columna {j}: \").replace(',', '.')\n",
        "      #validad que sea un mumero\n",
        "      if not numero_str.replace('.', '', 1).isdigit():\n",
        "        print(\"Ingresar valores numéricos válidos por favor.\")\n",
        "        return\n",
        "      #convertir la cadena a\n",
        "      numero = float(numero_str)\n",
        "      if numero < 0:\n",
        "        print(\"Los números deben ser reales positivos.\")\n",
        "        return\n",
        "      #cargar las columnas de la fila\n",
        "      lista_numeros.append(numero)\n",
        "    #Cargar lafila de la matriz\n",
        "    matriz_numeros.append(lista_numeros)\n",
        "  return matriz_numeros\n",
        "\n",
        "#funcion definida para sumar 2 filas de una matriz numpy\n",
        "def suma_filas_matriz(matriz_numpy_par):\n",
        "  cant_filas = len(matriz_numpy_par)\n",
        "  fila1 = int(input(\"Ingrese la primera fila: \"))\n",
        "  fila2 = int(input(\"Ingrese otra fila: \"))\n",
        "  #validar que no sea la misma fila\n",
        "  if fila1 < 0 or  fila2 < 0 or fila1 == fila2:\n",
        "    print(\" Las filas ingresadas deben ser mayor o igual a 0 y diferentes\")\n",
        "    return\n",
        "  elif fila1 >= cant_filas or fila2 >= cant_filas:\n",
        "      #validar queno supere el rango\n",
        "      print(f\"Los valores de la fila deben ser mayor o igual a cero y menor a {cant_filas} \")\n",
        "      return\n",
        "  #sumar\n",
        "  suma = matriz_numpy_par[fila1] + matriz_numpy_par[fila2]\n",
        "  return suma\n",
        "\n",
        "#Llamar a la funcion para que cargue la lista python\n",
        "matriz = crear_matriz()\n",
        "if not matriz:\n",
        "  print(\"Error la matriz no se cargo\")\n",
        "else:\n",
        "  #Crear la matriz numpy\n",
        "  matriz_numpy = np.array(matriz)\n",
        "  #Llamar a la funcion de sumar 2 filas\n",
        "  sumafila = suma_filas_matriz(matriz_numpy)\n",
        "  if sumafila.size > 0:\n",
        "    print(\"****Matriz python*****\")\n",
        "    print (matriz)\n",
        "    print(\"****Matriz numpy*****\")\n",
        "    print(matriz_numpy)\n",
        "    print(\"****Suma de las filas*****\")\n",
        "    print(sumafila)"
      ],
      "metadata": {
        "colab": {
          "base_uri": "https://localhost:8080/"
        },
        "id": "Bv51HGiSQGLi",
        "outputId": "ff09d23d-86e8-4d11-fc99-aef3e31393d7"
      },
      "id": "Bv51HGiSQGLi",
      "execution_count": 10,
      "outputs": [
        {
          "output_type": "stream",
          "name": "stdout",
          "text": [
            "Ingrese cantidad de filas: 3\n",
            "Ingrese cantidad de columnnas: 3\n",
            "Ingrese el número de la fila 0 columna 0: 2\n",
            "Ingrese el número de la fila 0 columna 1: 3\n",
            "Ingrese el número de la fila 0 columna 2: 4\n",
            "Ingrese el número de la fila 1 columna 0: 5\n",
            "Ingrese el número de la fila 1 columna 1: 6\n",
            "Ingrese el número de la fila 1 columna 2: 7\n",
            "Ingrese el número de la fila 2 columna 0: 8\n",
            "Ingrese el número de la fila 2 columna 1: 9\n",
            "Ingrese el número de la fila 2 columna 2: 10\n",
            "Ingrese la primera fila: 0\n",
            "Ingrese otra fila: 2\n",
            "****Matriz python*****\n",
            "[[2.0, 3.0, 4.0], [5.0, 6.0, 7.0], [8.0, 9.0, 10.0]]\n",
            "****Matriz numpy*****\n",
            "[[ 2.  3.  4.]\n",
            " [ 5.  6.  7.]\n",
            " [ 8.  9. 10.]]\n",
            "****Suma de las filas*****\n",
            "[10. 12. 14.]\n"
          ]
        }
      ]
    },
    {
      "cell_type": "markdown",
      "source": [
        "\n",
        "**Ejercicio 4:**\n",
        "\n",
        "\n",
        "A continuación se muestran los valores de  los siguientes productos:\n",
        "\n",
        "['arroz', 'harina','fideo','yerba','azucar']=[145.6 , 100 , 89.90 , 700 , 95]\n",
        "\n",
        "Los valores de estos productos son aproximados de hace dos meses, debido a la inflación y alza de los precios, se vieron afectados de la siguiente manera:\n",
        "*   Producto arroz , harina, azucar duplicaron su precio\n",
        "*   Productos restantes incrementaron en un 75% su precio\n",
        "\n",
        "Mostrar los datos en forma de vector y actualizar sus precios, de manera que se pueda comparar ambos vectores."
      ],
      "metadata": {
        "id": "zOCJT7aV9vZC"
      },
      "id": "zOCJT7aV9vZC"
    },
    {
      "cell_type": "code",
      "source": [
        "import numpy as np\n",
        "productos_precios = np.array([['arroz', 'harina','fideo','yerba','azucar'],[145.6 , 100 , 89.90 , 700 , 95]])\n",
        "#precios = np.array([145.6 , 100 , 89.90 , 700 , 95])\n",
        "\n",
        "print(\"Precios sin incremento: \\n\", productos_precios)\n",
        "j=0\n",
        "for i in productos_precios[0]:\n",
        "  if i == \"harina\":\n",
        "    productos_precios[1][1]= round(float(productos_precios[1][1])*2,2)\n",
        "  else:\n",
        "    productos_precios[1][j]= round(float(productos_precios[1][j])*1.75,2)\n",
        "  j += 1\n",
        "\n",
        "print(f\"\\nPrecios incrementados (harina un 100% y los demas un 75%): \\n\", productos_precios)"
      ],
      "metadata": {
        "colab": {
          "base_uri": "https://localhost:8080/"
        },
        "id": "qAkEBBoRQp57",
        "outputId": "ce095193-7793-4f4a-a49e-9b07659534a6"
      },
      "id": "qAkEBBoRQp57",
      "execution_count": 12,
      "outputs": [
        {
          "output_type": "stream",
          "name": "stdout",
          "text": [
            "Precios sin incremento: \n",
            " [['arroz' 'harina' 'fideo' 'yerba' 'azucar']\n",
            " ['145.6' '100' '89.9' '700' '95']]\n",
            "\n",
            "Precios incrementados (harina un 100% y los demas un 75%): \n",
            " [['arroz' 'harina' 'fideo' 'yerba' 'azucar']\n",
            " ['254.8' '200.0' '157.33' '1225.0' '166.25']]\n"
          ]
        }
      ]
    },
    {
      "cell_type": "markdown",
      "source": [
        "***EJERCICIO 5***\n",
        "\n",
        "Completar la siguiente tabla de comandos y funciones que se utilizarán sobre vectores definidos a través de Numpy\n",
        "\n",
        "|    | Comando | operación y funcionalidad |resultado | ejemplo |\n",
        "|---|    ---   |               ---         |    ---   |    ---  |\n",
        "1   | np.array([lista])|     crea un vector o table con Numpy  |  matriz   |np.array([1.6, 2, 0, 6.75])\n",
        "2   |np.sqrt(vector)|       raiz de los elementos de un array   |  matriz |  np.sqrt(vector_np)\n",
        "3   |np.random.rand(n)|     retorna \"N\" valores entre 0 y 1  |  matriz | np.random.rand(5)\n",
        "4   |np.ones((n))|          retorna un array con todos sus elementos = 1   |  matriz | np.ones((3))\n",
        "5   |np.zeros((n))|         retorna un array con todos sus elementos = 0  |  matriz | np.zeros((3))\n",
        "6   | np.min(array)|        retorna el valor minimo entre los elementos de la array   |valor mínimo| np.min(vector_np)\n",
        "7   | np.max(array)|        retorna el valor maximo entre los elementos del array   |valor máximo| np.max(vector_np)\n",
        "8   | np.where(CONDICIÓN SOBRE EL VECTOR)| retorna una tupla solo con los elementos que cumplen la condicion |tupla|np.where(vector_np>1)\n",
        "9   |np.random.shuffle(MATRIZ)|   reordena aleatoreamente las filas de la matriz  | matriz | VER EJERCICIO PARTE 2\n",
        "10  |array.shape[n], n=0,1 |   retorna cantidad de filas y columnas del array segun sea n = 0 o n= 1 respectivamente  | entero | VER EJERCICIO PARTE 2\n",
        "11  |np.sum(array, axis=n), n=0,1|  retorna la suma ya sea de todas las filas o columnas| matriz |VER EJERCICIO PARTE 1\n",
        "12  |np.arange(a, b, p)|  retorna un array \"(B-A)/P\" elementos el primero \"A\" y el ultimo \"B/P\", con paso \"P\"  | matriz |np.arange(0, 10, 0.1) VER EJERCICIOS PARTE 3\n",
        "\n",
        "\n"
      ],
      "metadata": {
        "id": "zNFELZiHwE4O"
      },
      "id": "zNFELZiHwE4O"
    },
    {
      "cell_type": "markdown",
      "metadata": {
        "id": "eXzkUDjx-o6u"
      },
      "source": [
        "#  Funciones matemáticas sobre vectores\n",
        "En esta sección, se aplican funciones matemáticas a un vector utilizando Python puro y NumPy. Luego, se imprime el resultado de cada función.\n",
        "\n",
        "**ACLARACIÓN:** Estas funciones utilizan funciones y operaciones elementales matemáticas, sobre cada una de las posiciones del vector. Pero en general, se pueden definir funciones matemáticas que relacionan diferentes posiciones de un vector."
      ],
      "id": "eXzkUDjx-o6u"
    },
    {
      "cell_type": "code",
      "execution_count": null,
      "metadata": {
        "id": "t12Cq_uD-o6u",
        "colab": {
          "base_uri": "https://localhost:8080/"
        },
        "outputId": "c7f45d95-6017-4670-e741-fbe9198296cd"
      },
      "outputs": [
        {
          "output_type": "stream",
          "name": "stdout",
          "text": [
            "Raíz cuadrada en Python puro: [1.0, 1.4142135623730951, 1.7320508075688772, 2.0, 2.23606797749979]\n",
            "Raíz cuadrada en NumPy: [1.         1.41421356 1.73205081 2.         2.23606798]\n",
            "Vector al cuadrado en Python:  [1, 4, 9, 16, 25]\n",
            "logaritmo de un Vector en Python:  [0.0, 0.6931471805599453, 1.0986122886681098, 1.3862943611198906, 1.6094379124341003]\n",
            "logaritmo de un Vector en Numpy:  [0.         0.69314718 1.09861229 1.38629436 1.60943791]\n"
          ]
        }
      ],
      "source": [
        "import math\n",
        "vector_py = [1, 2, 3, 4, 5]\n",
        "vector_np = np.array([1, 2, 3, 4, 5])\n",
        "raiz_cuadrada_py = [math.sqrt(x) for x in vector_py]\n",
        "vector_cuad=[(x**2) for x in vector_np]\n",
        "vector_log=[math.log(x) for x in vector_np]\n",
        "raiz_cuadrada_np = np.sqrt(vector_np)\n",
        "vector_npLog=np.log(vector_np)\n",
        "print(\"Raíz cuadrada en Python puro:\", raiz_cuadrada_py)\n",
        "print(\"Raíz cuadrada en NumPy:\", raiz_cuadrada_np)\n",
        "print('Vector al cuadrado en Python: ',vector_cuad)\n",
        "print('logaritmo de un Vector en Python: ',vector_log)\n",
        "print('logaritmo de un Vector en Numpy: ',vector_npLog)"
      ],
      "id": "t12Cq_uD-o6u"
    },
    {
      "cell_type": "markdown",
      "metadata": {
        "id": "bry8WTMN-o6v"
      },
      "source": [
        "####  Rendimiento\n",
        "En esta celda, se mide el rendimiento de operaciones en un vector utilizando Python puro y NumPy. Se imprime el tiempo de ejecución de cada operación."
      ],
      "id": "bry8WTMN-o6v"
    },
    {
      "cell_type": "code",
      "execution_count": null,
      "metadata": {
        "colab": {
          "base_uri": "https://localhost:8080/"
        },
        "id": "JabuzFhf-o6v",
        "outputId": "992ce8f9-5f23-428a-bb23-c4628ad57694"
      },
      "outputs": [
        {
          "output_type": "stream",
          "name": "stdout",
          "text": [
            "Tiempo en Python puro: 0.14838314056396484 segundos\n",
            "Tiempo en NumPy: 5.1975250244140625e-05 segundos\n"
          ]
        }
      ],
      "source": [
        "import time\n",
        "vector_py = [i for i in range(1000000)]\n",
        "vector_np = np.arange(1000000)\n",
        "\n",
        "start_time = time.time()\n",
        "[x * 2 for x in vector_py]\n",
        "end_time = time.time()\n",
        "print(\"Tiempo en Python puro:\", end_time - start_time, \"segundos\")\n",
        "\n",
        "start_time = time.time()\n",
        "end_time = time.time()\n",
        "print(\"Tiempo en NumPy:\", end_time - start_time, \"segundos\")"
      ],
      "id": "JabuzFhf-o6v"
    },
    {
      "cell_type": "markdown",
      "metadata": {
        "id": "iqiM6a2i-o6x"
      },
      "source": [
        "## Redimensionar un NumPy\n",
        "A continuación se presentan dos ejemplos de redimensionamiento de un NumPy:"
      ],
      "id": "iqiM6a2i-o6x"
    },
    {
      "cell_type": "markdown",
      "metadata": {
        "id": "fkDQpzMo-o6x"
      },
      "source": [
        "#### Redimensionamiento 1\n",
        "En esta celda, se crea un NumPy 'array' y se utiliza la función reshape() de NumPy para redimensionarlo a una forma diferente. Luego, se imprime el nuevo array."
      ],
      "id": "fkDQpzMo-o6x"
    },
    {
      "cell_type": "code",
      "execution_count": null,
      "metadata": {
        "colab": {
          "base_uri": "https://localhost:8080/"
        },
        "id": "zg5ygnQ6-o6x",
        "outputId": "fbf2069d-4f6c-41c1-889a-203cfce97306"
      },
      "outputs": [
        {
          "output_type": "stream",
          "name": "stdout",
          "text": [
            "Nuevo array redimensionado: [[1 2 3]\n",
            " [4 5 6]]\n"
          ]
        }
      ],
      "source": [
        "array = np.array([1, 2, 3, 4, 5, 6])\n",
        "nuevo_array = array.reshape((2, 3))\n",
        "print(\"Nuevo array redimensionado:\", nuevo_array)"
      ],
      "id": "zg5ygnQ6-o6x"
    },
    {
      "cell_type": "markdown",
      "metadata": {
        "id": "2xfwP-s5-o6x"
      },
      "source": [
        "#### Redimensionamiento 2\n",
        "En esta celda, se crea un NumPy 'array' y se utiliza la función np.resize() de NumPy para redimensionarlo a una forma diferente. Luego, se imprime el nuevo array."
      ],
      "id": "2xfwP-s5-o6x"
    },
    {
      "cell_type": "code",
      "execution_count": null,
      "metadata": {
        "colab": {
          "base_uri": "https://localhost:8080/"
        },
        "id": "cNbF-5i3-o6x",
        "outputId": "2fb47753-1cd8-48d8-d2b2-9f00394fbbd0"
      },
      "outputs": [
        {
          "output_type": "stream",
          "name": "stdout",
          "text": [
            "Nuevo array redimensionado: [[1 2 3]\n",
            " [4 5 6]\n",
            " [1 2 3]]\n"
          ]
        }
      ],
      "source": [
        "array = np.array([1, 2, 3, 4, 5, 6])\n",
        "nuevo_array = np.resize(array, (3, 3))\n",
        "print(\"Nuevo array redimensionado:\", nuevo_array)"
      ],
      "id": "cNbF-5i3-o6x"
    },
    {
      "cell_type": "markdown",
      "source": [
        "# ***EJERCICIOS PARTE 2***\n",
        "\n",
        "**Ejercicio 1:**\n",
        "\n",
        "Dado una matriz de datos, dividir el 70% de filas en un array_entrenamiento y el otro 30% en otro array_testeo. Esta distribución de filas de la matriz inicial, debe ser aleatoria. Mostrar las matrices al ser modificadas por el comando np.random.shuffle('matriz'). Finalmente mostrar los array_entrenamiento y array_testeo."
      ],
      "metadata": {
        "id": "2hHxd6eg6w1u"
      },
      "id": "2hHxd6eg6w1u"
    },
    {
      "cell_type": "code",
      "source": [
        "dataset = np.array([[25, 1, 7, 100, 1],\n",
        "                    [30, 2, 5, 120, 0],\n",
        "                    [22, 1, 6, 80, 1],\n",
        "                    [28, 1, 6, 90, 0],\n",
        "                    [35, 2, 4, 130, 1],\n",
        "                    [32, 2, 6, 110, 1],\n",
        "                    [26, 1, 8, 95, 1],\n",
        "                    [24, 1, 5, 85, 0],\n",
        "                    [29, 2, 7, 115, 1],\n",
        "                    [31, 2, 6, 105, 0]])\n",
        "\n",
        "# Mezclar las filas de la matriz para obtener una distribución aleatoria de los datos\n",
        "np.random.shuffle(dataset)\n",
        "print( dataset)\n"
      ],
      "metadata": {
        "colab": {
          "base_uri": "https://localhost:8080/"
        },
        "id": "pzZwS3lF6M-6",
        "outputId": "e9c92fe9-dd99-4b8c-a4ef-f8c466d26850"
      },
      "execution_count": null,
      "outputs": [
        {
          "output_type": "stream",
          "name": "stdout",
          "text": [
            "[[ 22   1   6  80   1]\n",
            " [ 29   2   7 115   1]\n",
            " [ 28   1   6  90   0]\n",
            " [ 26   1   8  95   1]\n",
            " [ 25   1   7 100   1]\n",
            " [ 31   2   6 105   0]\n",
            " [ 35   2   4 130   1]\n",
            " [ 30   2   5 120   0]\n",
            " [ 24   1   5  85   0]\n",
            " [ 32   2   6 110   1]]\n"
          ]
        }
      ],
      "id": "pzZwS3lF6M-6"
    },
    {
      "cell_type": "code",
      "source": [
        "import numpy as np\n",
        "\n",
        "\n",
        "dataset = np.array([[25, 1, 7, 100, 1],\n",
        "                    [30, 2, 5, 120, 0],\n",
        "                    [22, 1, 6, 80, 1],\n",
        "                    [28, 1, 6, 90, 0],\n",
        "                    [35, 2, 4, 130, 1],\n",
        "                    [32, 2, 6, 110, 1],\n",
        "                    [26, 1, 8, 95, 1],\n",
        "                    [24, 1, 5, 85, 0],\n",
        "                    [29, 2, 7, 115, 1],\n",
        "                    [31, 2, 6, 105, 0]])\n",
        "\n",
        "# Mezclar las filas de la matriz para obtener una distribución aleatoria de los datos\n",
        "np.random.shuffle(dataset)\n",
        "\n",
        "p_train = 0.7\n",
        "\n",
        "filas, columnas = dataset.shape\n",
        "\n",
        "train =int(p_train*filas)\n",
        "\n",
        "array_entrenamiento, array_testeo = dataset[:train], dataset[train:]\n",
        "\n",
        "print(dataset)\n",
        "print(\"\")\n",
        "print(\"Ejemplos usados para entrenar: \")\n",
        "print(array_entrenamiento)\n",
        "print(\"\")\n",
        "print(\"Ejemplos usados para test: \")\n",
        "print(array_testeo)"
      ],
      "metadata": {
        "colab": {
          "base_uri": "https://localhost:8080/"
        },
        "id": "7T9YGcJ_Sku3",
        "outputId": "c537e241-6548-486d-a11c-62575446e6f8"
      },
      "id": "7T9YGcJ_Sku3",
      "execution_count": 13,
      "outputs": [
        {
          "output_type": "stream",
          "name": "stdout",
          "text": [
            "[[ 26   1   8  95   1]\n",
            " [ 35   2   4 130   1]\n",
            " [ 29   2   7 115   1]\n",
            " [ 24   1   5  85   0]\n",
            " [ 25   1   7 100   1]\n",
            " [ 32   2   6 110   1]\n",
            " [ 30   2   5 120   0]\n",
            " [ 31   2   6 105   0]\n",
            " [ 22   1   6  80   1]\n",
            " [ 28   1   6  90   0]]\n",
            "\n",
            "Ejemplos usados para entrenar: \n",
            "[[ 26   1   8  95   1]\n",
            " [ 35   2   4 130   1]\n",
            " [ 29   2   7 115   1]\n",
            " [ 24   1   5  85   0]\n",
            " [ 25   1   7 100   1]\n",
            " [ 32   2   6 110   1]\n",
            " [ 30   2   5 120   0]]\n",
            "\n",
            "Ejemplos usados para test: \n",
            "[[ 31   2   6 105   0]\n",
            " [ 22   1   6  80   1]\n",
            " [ 28   1   6  90   0]]\n"
          ]
        }
      ]
    },
    {
      "cell_type": "markdown",
      "source": [
        "**Ejercicio 2:**\n",
        "\n",
        "Dado la siguiente tabla de datos poblaciones de las Provincias de Argentina (Ejercicio 10 del Práctico 1), Realizar el siguiente analisis.\n",
        "\n",
        "\n",
        "\n",
        "*   indicar la cantidad de filas y columnas que posee la tabla de datos.\n",
        "*   Mostrar toda la información de la provincia con Mayor Cantidad de habitantes. AYUDA: usar la función np.max(array)\n",
        "*   Agregar a la tabla de datos una fila al final , indicando los totales de cada columna. Mostrar el resultado de la nueva tabla.\n",
        "\n"
      ],
      "metadata": {
        "id": "9WqSL4cG7LhH"
      },
      "id": "9WqSL4cG7LhH"
    },
    {
      "cell_type": "code",
      "source": [
        "poblacionArgentina1=[\n",
        "    ['PROVINCIA','CANTIDAD DE HABITANTES','CONSUMO EN MWH','SUPERFICIE EN KM^2'],\n",
        "    ['Buenos Aires','17.569.053',' 16543722',' 305907'],\n",
        "    ['Córdoba','3.978.984',' 10606601','164708'],\n",
        "    ['Santa Fe','3.556.522',' 13078203',' 133249'],\n",
        "    ['Ciudad Autónoma de Buenos Aires','3.120.612','51712507',' 201'],\n",
        "    ['Mendoza','2.014.533',' 5652519',' 149069'],\n",
        "    ['Tucumán','1.703.186','3208711','22.524'],\n",
        "    ['Salta','1.440.672',' 2214796',' 155341'],\n",
        "    ['Entre Ríos','1.426.426','3906353','78384'],\n",
        "    ['Misiones','1.280.960','2845762',' 29911'],\n",
        "    ['Corrientes','1.197.553','2997612',' 89123'],\n",
        "    ['Chaco','1.142.963','3045380',' 99763'],\n",
        "    ['Santiago del Estero','1.054.028',' 1811277',' 136934'],\n",
        "    ['San Juan','818.234',' 2381940',' 88296'],\n",
        "   ['Jujuy','797.955',' 1136336',' 53244'],\n",
        "   ['Río Negro','762.067',' 1984782','202169'],\n",
        "   ['Neuquén','726.590','1834879',' 94422'],\n",
        "   ['Formosa','606.041',' 1388311','75488'],\n",
        "   ['Chubut','603.120','1646029',' 224302'],\n",
        "   ['San Luis','540.905',' 1780881','75347'],\n",
        "   ['Catamarca','429.556',' 1337032','101486'],\n",
        "   ['La Rioja','384.607','1572290',' 91494'],\n",
        "   ['La Pampa','366.022','915781',' 143493'],\n",
        "   ['Santa Cruz','333.473',' 1025648',' 244458'],\n",
        "   ['Tierra del Fuego, Antártida e Islas del Atlántico Sur','190.641',' s/d ',' 37131']]\n",
        "\n",
        "poblacionArgentina=np.array(poblacionArgentina1)\n",
        "\n",
        "print(poblacionArgentina)"
      ],
      "metadata": {
        "colab": {
          "base_uri": "https://localhost:8080/"
        },
        "id": "5h1AALwz8Eqo",
        "outputId": "ebabdec7-f972-418b-9c43-d52cbbea1a39"
      },
      "id": "5h1AALwz8Eqo",
      "execution_count": null,
      "outputs": [
        {
          "output_type": "stream",
          "name": "stdout",
          "text": [
            "[['PROVINCIA' 'CANTIDAD DE HABITANTES' 'CONSUMO EN MWH'\n",
            "  'SUPERFICIE EN KM^2']\n",
            " ['Buenos Aires' '17.569.053' ' 16543722' ' 305907']\n",
            " ['Córdoba' '3.978.984' ' 10606601' '164708']\n",
            " ['Santa Fe' '3.556.522' ' 13078203' ' 133249']\n",
            " ['Ciudad Autónoma de Buenos Aires' '3.120.612' '51712507' ' 201']\n",
            " ['Mendoza' '2.014.533' ' 5652519' ' 149069']\n",
            " ['Tucumán' '1.703.186' '3208711' '22.524']\n",
            " ['Salta' '1.440.672' ' 2214796' ' 155341']\n",
            " ['Entre Ríos' '1.426.426' '3906353' '78384']\n",
            " ['Misiones' '1.280.960' '2845762' ' 29911']\n",
            " ['Corrientes' '1.197.553' '2997612' ' 89123']\n",
            " ['Chaco' '1.142.963' '3045380' ' 99763']\n",
            " ['Santiago del Estero' '1.054.028' ' 1811277' ' 136934']\n",
            " ['San Juan' '818.234' ' 2381940' ' 88296']\n",
            " ['Jujuy' '797.955' ' 1136336' ' 53244']\n",
            " ['Río Negro' '762.067' ' 1984782' '202169']\n",
            " ['Neuquén' '726.590' '1834879' ' 94422']\n",
            " ['Formosa' '606.041' ' 1388311' '75488']\n",
            " ['Chubut' '603.120' '1646029' ' 224302']\n",
            " ['San Luis' '540.905' ' 1780881' '75347']\n",
            " ['Catamarca' '429.556' ' 1337032' '101486']\n",
            " ['La Rioja' '384.607' '1572290' ' 91494']\n",
            " ['La Pampa' '366.022' '915781' ' 143493']\n",
            " ['Santa Cruz' '333.473' ' 1025648' ' 244458']\n",
            " ['Tierra del Fuego, Antártida e Islas del Atlántico Sur' '190.641'\n",
            "  ' s/d ' ' 37131']]\n"
          ]
        }
      ]
    },
    {
      "cell_type": "code",
      "source": [
        "import numpy as np\n",
        "poblacionArgentina1=[\n",
        "  ['PROVINCIA','CANTIDAD DE HABITANTES','CONSUMO EN MWH','SUPERFICIE EN KM^2'],\n",
        "  ['Buenos Aires','17.569.053',' 16543722',' 305907'],\n",
        "  ['Córdoba','3.978.984',' 10606601','164708'],\n",
        "  ['Santa Fe','3.556.522',' 13078203',' 133249'],\n",
        "  ['Ciudad Autónoma de Buenos Aires','3.120.612','51712507',' 201'],\n",
        "  ['Mendoza','2.014.533',' 5652519',' 149069'],\n",
        "  ['Tucumán','1.703.186','3208711','22.524'],\n",
        "  ['Salta','1.440.672',' 2214796',' 155341'],\n",
        "  ['Entre Ríos','1.426.426','3906353','78384'],\n",
        "  ['Misiones','1.280.960','2845762',' 29911'],\n",
        "  ['Corrientes','1.197.553','2997612',' 89123'],\n",
        "  ['Chaco','1.142.963','3045380',' 99763'],\n",
        "  ['Santiago del Estero','1.054.028',' 1811277',' 136934'],\n",
        "  ['San Juan','818.234',' 2381940',' 88296'],\n",
        " ['Jujuy','797.955',' 1136336',' 53244'],\n",
        "  ['Río Negro','762.067',' 1984782','202169'],\n",
        "  ['Neuquén','726.590','1834879',' 94422'],\n",
        "  ['Formosa','606.041',' 1388311','75488'],\n",
        "  ['Chubut','603.120','1646029',' 224302'],\n",
        "  ['San Luis','540.905',' 1780881','75347'],\n",
        "  ['Catamarca','429.556',' 1337032','101486'],\n",
        "  ['La Rioja','384.607','1572290',' 91494'],\n",
        "  ['La Pampa','366.022','915781',' 143493'],\n",
        "  ['Santa Cruz','333.473',' 1025648',' 244458'],\n",
        "  ['Tierra del Fuego, Antártida e Islas del Atlántico Sur','190.641',' s/d ',' 37131']]\n",
        "\n",
        "poblacionArgentina = np.array(poblacionArgentina1)\n",
        "#dejar los datos en la matriz sin punto o cadenas, para despues pasarlos a numeros y saco la fila 0 con las etiquetas\n",
        "poblacionArgentina = np.char.replace(poblacionArgentina[1:,0:], \".\",\"\")\n",
        "poblacionArgentina = np.char.replace(poblacionArgentina[0:,0:], \" s/d \",\"0\")\n",
        "#print(poblacionArgentina)\n",
        "\n",
        "#1.indicar la cantidad de filas y columnas que posee la tabla de datos\n",
        "print(\"***********1***********\")\n",
        "print(f\"Cantidad de filas {np.shape(poblacionArgentina)[0]}  y la cantidad de columnas {np.shape(poblacionArgentina)[1]}\")\n",
        "print(f\"Como tupla {np.shape(poblacionArgentina)}\")\n",
        "\n",
        "#2.Mostrar toda la información de la provincia con Mayor Cantidad de habitantes. AYUDA: usar la función np.max(array)\n",
        "#tomar la columna de habitantes\n",
        "hab =  poblacionArgentina[0: ,1]\n",
        "#convertir a entero\n",
        "hab1 = np.int0(hab)\n",
        "#print(hab1)\n",
        "#Sacar el maximo y su posicion para decir la provincia\n",
        "max_hab = np.max(hab1) #No se usa solo la posicion es importante pero bueno\n",
        "max_pos = np.argmax(hab1)\n",
        "print(\"***********2***********\")\n",
        "print(f\"Provinca con más habitantes: {poblacionArgentina[(max_pos), 0]} , Habitantes: {poblacionArgentina[(max_pos), 1]} consumo: {poblacionArgentina[(max_pos), 2]} Superficie: {poblacionArgentina[(max_pos), 3]}\")\n",
        "\n",
        "#3.Agregar a la tabla de datos una fila al final , indicando los totales de cada columna. Mostrar el resultado de la nueva tabla.\n",
        "total_habitantes = np.sum(hab1)\n",
        "#tomar la columna de consumo\n",
        "consumo =  poblacionArgentina[0: ,2]\n",
        "consumo1= np.int0(consumo)\n",
        "total_consumo = np.sum(consumo1)\n",
        "#print(consumo1)\n",
        "#sacar las superficies\n",
        "superficie =  poblacionArgentina[0: ,3]\n",
        "superficie1= np.int0(superficie)\n",
        "total_superficie = np.sum(superficie1)\n",
        "#print(superficie1)\n",
        "\n",
        "#agregar la fila\n",
        "lista = ['Total' ,str(total_habitantes) ,str(total_consumo) ,str(total_superficie)]\n",
        "poblacionArgentina = np.append(poblacionArgentina,lista)\n",
        "print(\"***********3***********\")\n",
        "print(poblacionArgentina)"
      ],
      "metadata": {
        "colab": {
          "base_uri": "https://localhost:8080/"
        },
        "id": "YsvT9QZbS2mJ",
        "outputId": "b194d886-9e25-4041-e2c0-b170e3bed97b"
      },
      "id": "YsvT9QZbS2mJ",
      "execution_count": 14,
      "outputs": [
        {
          "output_type": "stream",
          "name": "stdout",
          "text": [
            "***********1***********\n",
            "Cantidad de filas 24  y la cantidad de columnas 4\n",
            "Como tupla (24, 4)\n",
            "***********2***********\n",
            "Provinca con más habitantes: Buenos Aires , Habitantes: 17569053 consumo:  16543722 Superficie:  305907\n",
            "***********3***********\n",
            "['Buenos Aires' '17569053' ' 16543722' ' 305907' 'Córdoba' '3978984'\n",
            " ' 10606601' '164708' 'Santa Fe' '3556522' ' 13078203' ' 133249'\n",
            " 'Ciudad Autónoma de Buenos Aires' '3120612' '51712507' ' 201' 'Mendoza'\n",
            " '2014533' ' 5652519' ' 149069' 'Tucumán' '1703186' '3208711' '22524'\n",
            " 'Salta' '1440672' ' 2214796' ' 155341' 'Entre Ríos' '1426426' '3906353'\n",
            " '78384' 'Misiones' '1280960' '2845762' ' 29911' 'Corrientes' '1197553'\n",
            " '2997612' ' 89123' 'Chaco' '1142963' '3045380' ' 99763'\n",
            " 'Santiago del Estero' '1054028' ' 1811277' ' 136934' 'San Juan' '818234'\n",
            " ' 2381940' ' 88296' 'Jujuy' '797955' ' 1136336' ' 53244' 'Río Negro'\n",
            " '762067' ' 1984782' '202169' 'Neuquén' '726590' '1834879' ' 94422'\n",
            " 'Formosa' '606041' ' 1388311' '75488' 'Chubut' '603120' '1646029'\n",
            " ' 224302' 'San Luis' '540905' ' 1780881' '75347' 'Catamarca' '429556'\n",
            " ' 1337032' '101486' 'La Rioja' '384607' '1572290' ' 91494' 'La Pampa'\n",
            " '366022' '915781' ' 143493' 'Santa Cruz' '333473' ' 1025648' ' 244458'\n",
            " 'Tierra del Fuego, Antártida e Islas del Atlántico Sur' '190641' '0'\n",
            " ' 37131' 'Total' '46044703' '134627352' '2796444']\n"
          ]
        }
      ]
    },
    {
      "cell_type": "markdown",
      "metadata": {
        "id": "lQwZW6nj-o67"
      },
      "source": [
        "# Ploteo de datos con Matplotlib\n",
        "A continuación se presentan ejemplos de diferentes tipos de gráficos utilizando Matplotlib:"
      ],
      "id": "lQwZW6nj-o67"
    },
    {
      "cell_type": "markdown",
      "metadata": {
        "id": "W6xs2svw-o67"
      },
      "source": [
        "## Gráfica de funciones matemáticas elementales\n",
        "En esta celda, se crea un array 'x' con valores en el rango de 0 a 10 y se utiliza la función np.sin() y np.cos() de NumPy para calcular el seno y coseno de cada valor en 'x'. Luego, se utiliza la biblioteca Matplotlib para trazar un gráfico de línea con 'x' en el eje x y 'y' en el eje y. También se agrega etiquetas y un título al gráfico."
      ],
      "id": "W6xs2svw-o67"
    },
    {
      "cell_type": "code",
      "execution_count": null,
      "metadata": {
        "colab": {
          "base_uri": "https://localhost:8080/",
          "height": 284
        },
        "id": "GQGdYmNN-o67",
        "outputId": "85ff9e91-3d9c-44e5-a5c3-cb2b12fc097c"
      },
      "outputs": [
        {
          "output_type": "display_data",
          "data": {
            "text/plain": [
              "<Figure size 640x480 with 1 Axes>"
            ],
            "image/png": "[encoded data removed]"
          },
          "metadata": {}
        }
      ],
      "source": [
        "import matplotlib.pyplot as plt\n",
        "\n",
        "x = np.arange(0, 10, 0.1)\n",
        "y = np.cos(x)\n",
        "\n",
        "plt.plot(x, y)\n",
        "plt.xlabel('x')\n",
        "plt.ylabel('y')\n",
        "plt.title('Gráfico de línea')\n",
        "plt.show()"
      ],
      "id": "GQGdYmNN-o67"
    },
    {
      "cell_type": "markdown",
      "source": [
        "# ***EJERCICIOS PARTE 3***\n",
        "\n",
        "Realizar las gráficas de als siguientes expresiones matemáticas. Determinar el dominio del eje x adecuado para plotear las funciones de manera que se visualice su comportamiento.\n",
        "\n",
        "\n",
        "*  $ y= 3x -2$\n",
        "*   $y= 2x^2+4x+2 $\n",
        "*   $y= \\vert x\\vert= \\begin{cases}-x & x < 0 \\\\ x & x\\ge 0                       \\end{cases}$\n",
        "*   $y= 1/x$\n",
        "*   $y=\\sqrt x$\n",
        "\n",
        "\n"
      ],
      "metadata": {
        "id": "Q0dztL-66aVb"
      },
      "id": "Q0dztL-66aVb"
    },
    {
      "cell_type": "code",
      "source": [
        "import numpy as np\n",
        "import matplotlib.pyplot as plt\n",
        "\n",
        "x = np.arange(0, 10, 0.1)\n",
        "y = 3*x-2\n",
        "\n",
        "plt.plot(y)\n",
        "plt.xlabel('x')\n",
        "plt.ylabel('y')\n",
        "plt.title('Gráfico 1')\n",
        "plt.show()"
      ],
      "metadata": {
        "colab": {
          "base_uri": "https://localhost:8080/",
          "height": 472
        },
        "id": "BZmhzymyTN59",
        "outputId": "a122e4c1-e214-46cc-d7b9-f30201e0bb8f"
      },
      "id": "BZmhzymyTN59",
      "execution_count": 15,
      "outputs": [
        {
          "output_type": "display_data",
          "data": {
            "text/plain": [
              "<Figure size 640x480 with 1 Axes>"
            ],
            "image/png": "[encoded data removed]"
          },
          "metadata": {}
        }
      ]
    },
    {
      "cell_type": "code",
      "source": [
        "import numpy as np\n",
        "import matplotlib.pyplot as plt\n",
        "\n",
        "x = np.arange(0, 100, 0.1)\n",
        "y = 2*x**2+4*x+2\n",
        "\n",
        "plt.plot(y)\n",
        "plt.xlabel('x')\n",
        "plt.ylabel('y')\n",
        "plt.title('Gráfico 2')\n",
        "plt.show()"
      ],
      "metadata": {
        "colab": {
          "base_uri": "https://localhost:8080/",
          "height": 472
        },
        "id": "pEoLdSH4TW6D",
        "outputId": "dadd90b4-ed66-4c10-864a-ef810a7de287"
      },
      "id": "pEoLdSH4TW6D",
      "execution_count": 16,
      "outputs": [
        {
          "output_type": "display_data",
          "data": {
            "text/plain": [
              "<Figure size 640x480 with 1 Axes>"
            ],
            "image/png": "[encoded data removed]"
          },
          "metadata": {}
        }
      ]
    },
    {
      "cell_type": "code",
      "source": [
        "import numpy as np\n",
        "import matplotlib.pyplot as plt\n",
        "\n",
        "x = np.arange(-10, 10, 0.1)\n",
        "y = (x**2)**(1/2)\n",
        "\n",
        "plt.plot(y)\n",
        "plt.xlabel('x')\n",
        "plt.ylabel('y')\n",
        "plt.title('Gráfico 3')\n",
        "plt.show()"
      ],
      "metadata": {
        "colab": {
          "base_uri": "https://localhost:8080/",
          "height": 472
        },
        "id": "D57CQpENTaXp",
        "outputId": "2d44a583-3e03-4512-e1dc-d24f5797f1bb"
      },
      "id": "D57CQpENTaXp",
      "execution_count": 17,
      "outputs": [
        {
          "output_type": "display_data",
          "data": {
            "text/plain": [
              "<Figure size 640x480 with 1 Axes>"
            ],
            "image/png": "[encoded data removed]"
          },
          "metadata": {}
        }
      ]
    },
    {
      "cell_type": "code",
      "source": [
        "import numpy as np\n",
        "import matplotlib.pyplot as plt\n",
        "\n",
        "x = np.arange(0.1, 10, 0.1)\n",
        "y = 1/x\n",
        "\n",
        "plt.plot(y)\n",
        "plt.xlabel('x')\n",
        "plt.ylabel('y')\n",
        "plt.title('Gráfico 3')\n",
        "plt.show()"
      ],
      "metadata": {
        "colab": {
          "base_uri": "https://localhost:8080/",
          "height": 472
        },
        "id": "YDebO5e-ThrH",
        "outputId": "a39eb7e9-7394-4334-f1be-017ae02e0005"
      },
      "id": "YDebO5e-ThrH",
      "execution_count": 18,
      "outputs": [
        {
          "output_type": "display_data",
          "data": {
            "text/plain": [
              "<Figure size 640x480 with 1 Axes>"
            ],
            "image/png": "[encoded data removed]"
          },
          "metadata": {}
        }
      ]
    },
    {
      "cell_type": "code",
      "source": [
        "import numpy as np\n",
        "import matplotlib.pyplot as plt\n",
        "\n",
        "x = np.arange(-10, 10, 0.5)\n",
        "#print(len(x))\n",
        "np.delete(x, 20)\n",
        "y = 1/x\n",
        "#print(x)\n",
        "plt.plot(x,y)\n",
        "plt.xlabel('x')\n",
        "plt.ylabel('y')\n",
        "plt.title('Gráfico 3. (1/x)')\n",
        "plt.show()"
      ],
      "metadata": {
        "colab": {
          "base_uri": "https://localhost:8080/",
          "height": 506
        },
        "id": "IbPK-WcZToVQ",
        "outputId": "d31e6754-ddf4-4cc8-a2db-37e7f19efd3c"
      },
      "id": "IbPK-WcZToVQ",
      "execution_count": 19,
      "outputs": [
        {
          "output_type": "stream",
          "name": "stderr",
          "text": [
            "<ipython-input-19-15e68e4b5951>:7: RuntimeWarning: divide by zero encountered in divide\n",
            "  y = 1/x\n"
          ]
        },
        {
          "output_type": "display_data",
          "data": {
            "text/plain": [
              "<Figure size 640x480 with 1 Axes>"
            ],
            "image/png": "[encoded data removed]"
          },
          "metadata": {}
        }
      ]
    },
    {
      "cell_type": "code",
      "source": [
        "import numpy as np\n",
        "import matplotlib.pyplot as plt\n",
        "\n",
        "x = np.arange(0, 10, 0.1)\n",
        "y = x**(1/2)\n",
        "\n",
        "plt.plot(y)\n",
        "plt.xlabel('x')\n",
        "plt.ylabel('y')\n",
        "plt.title('Gráfico 3')\n",
        "plt.show()"
      ],
      "metadata": {
        "colab": {
          "base_uri": "https://localhost:8080/",
          "height": 472
        },
        "id": "4o9YjkbKT2Q-",
        "outputId": "a2bbd958-ce43-4dd8-9a8a-9dd908436002"
      },
      "id": "4o9YjkbKT2Q-",
      "execution_count": 20,
      "outputs": [
        {
          "output_type": "display_data",
          "data": {
            "text/plain": [
              "<Figure size 640x480 with 1 Axes>"
            ],
            "image/png": "[encoded data removed]"
          },
          "metadata": {}
        }
      ]
    }
  ],
  "metadata": {
    "kernelspec": {
      "display_name": "Python 3",
      "language": "python",
      "name": "python3"
    },
    "language_info": {
      "codemirror_mode": {
        "name": "ipython",
        "version": 3
      },
      "file_extension": ".py",
      "mimetype": "text/x-python",
      "name": "python",
      "nbconvert_exporter": "python",
      "pygments_lexer": "ipython3",
      "version": "3.11.1"
    },
    "colab": {
      "provenance": [],
      "include_colab_link": true
    }
  },
  "nbformat": 4,
  "nbformat_minor": 5
}